{
  "nbformat": 4,
  "nbformat_minor": 0,
  "metadata": {
    "colab": {
      "provenance": []
    },
    "kernelspec": {
      "name": "python3",
      "display_name": "Python 3"
    },
    "language_info": {
      "name": "python"
    }
  },
  "cells": [
    {
      "cell_type": "code",
      "source": [
        "import osmnx as ox\n",
        "import networkx as nx\n",
        "\n",
        "# download the OSM graph for a specific location\n",
        "G = ox.graph_from_place('New York City, New York, USA', network_type='drive')\n",
        "\n",
        "# list of depots with their latitudes and longitudes\n",
        "depots = [('Depot 1', 40.717616, -74.01068), ('Depot 2', 40.728611, -74.005278)]\n",
        "\n",
        "# find the nearest node in the graph for each depot\n",
        "depot_nodes = []\n",
        "for depot in depots:\n",
        "    depot_name, depot_lat, depot_lon = depot\n",
        "    node = ox.get_nearest_node(G, (depot_lat, depot_lon))\n",
        "    depot_nodes.append((depot_name, node))\n",
        "\n",
        "# create a dictionary of node pairs and their shortest path lengths\n",
        "node_pairs = {}\n",
        "for i in range(len(depot_nodes)):\n",
        "    for j in range(i+1, len(depot_nodes)):\n",
        "        depot1_name, depot1_node = depot_nodes[i]\n",
        "        depot2_name, depot2_node = depot_nodes[j]\n",
        "        path = nx.bellman_ford(G, depot1_node, depot2_node, weight='length')\n",
        "        if path[1]:\n",
        "            node_pairs[(depot1_node, depot2_node)] = path[0][depot2_node]\n",
        "\n",
        "# loop through the node pairs and print their shortest path lengths\n",
        "for node_pair, length in node_pairs.items():\n",
        "    depot1_node, depot2_node = node_pair\n",
        "    depot1_name = next(name for name, node in depot_nodes if node == depot1_node)\n",
        "    depot2_name = next(name for name, node in depot_nodes if node == depot2_node)\n",
        "    print(f\"Shortest path between {depot1_name} and {depot2_name} is {length} meters\")\n"
      ],
      "metadata": {
        "id": "Obb2hQyodTAj"
      },
      "execution_count": null,
      "outputs": []
    }
  ]
}