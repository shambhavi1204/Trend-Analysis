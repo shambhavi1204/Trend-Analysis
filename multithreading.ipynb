{
  "cells": [
    {
      "cell_type": "code",
      "execution_count": null,
      "metadata": {
        "id": "kUTaiWYtyc68"
      },
      "outputs": [],
      "source": [
        "import numpy as np\n",
        "import pandas as pd"
      ]
    },
    {
      "cell_type": "code",
      "execution_count": null,
      "metadata": {
        "colab": {
          "background_save": true
        },
        "id": "1gOHN5NMzcdC",
        "outputId": "35ed83f6-72d9-4084-e3ff-f6b89d77ff94"
      },
      "outputs": [
        {
          "name": "stdout",
          "output_type": "stream",
          "text": [
            "Mounted at /content/drive\n"
          ]
        }
      ],
      "source": [
        "from google.colab import drive\n",
        "drive.mount('/content/drive')"
      ]
    },
    {
      "cell_type": "code",
      "execution_count": null,
      "metadata": {
        "id": "n_oGt24kymJv"
      },
      "outputs": [],
      "source": [
        "df = pd.read_csv('/content/drive/MyDrive/combined_trajectories.csv')\n",
        "df.head()"
      ]
    },
    {
      "cell_type": "code",
      "execution_count": null,
      "metadata": {
        "id": "eN59QKnMyuJB"
      },
      "outputs": [],
      "source": [
        "df.info()"
      ]
    },
    {
      "cell_type": "code",
      "execution_count": null,
      "metadata": {
        "colab": {
          "base_uri": "https://localhost:8080/"
        },
        "id": "L-qyL66q88wQ",
        "outputId": "38acf6bf-0cfb-479b-c4e7-3dad6745c888"
      },
      "outputs": [
        {
          "name": "stdout",
          "output_type": "stream",
          "text": [
            "182\n"
          ]
        }
      ],
      "source": [
        "print(len(df['individual_id'].unique()))"
      ]
    },
    {
      "cell_type": "code",
      "execution_count": null,
      "metadata": {
        "id": "daXhrfMkcCmT"
      },
      "outputs": [],
      "source": [
        "df2= df[['latitude', 'longitude', 'altitude']]\n",
        "point = [list(x) for x in df2.to_numpy()]\n"
      ]
    },
    {
      "cell_type": "code",
      "execution_count": null,
      "metadata": {
        "colab": {
          "base_uri": "https://localhost:8080/"
        },
        "id": "oVyMZLBSclek",
        "outputId": "a5ee1ca5-aba2-4782-ce01-a9b86078eff1"
      },
      "outputs": [
        {
          "name": "stdout",
          "output_type": "stream",
          "text": [
            "24876978\n"
          ]
        }
      ],
      "source": [
        "print(len(point))"
      ]
    },
    {
      "cell_type": "code",
      "execution_count": null,
      "metadata": {
        "colab": {
          "base_uri": "https://localhost:8080/"
        },
        "id": "XNP5D-NacqJG",
        "outputId": "50ef90f8-b6d5-45dd-f4e5-124b37eed19b"
      },
      "outputs": [
        {
          "name": "stdout",
          "output_type": "stream",
          "text": [
            "[39.984683, 116.31845, 492.0]\n"
          ]
        }
      ],
      "source": [
        "print(point[1])"
      ]
    },
    {
      "cell_type": "code",
      "execution_count": null,
      "metadata": {
        "id": "PEm1Exi_dmKF"
      },
      "outputs": [],
      "source": [
        "df['coordinate'] = point"
      ]
    },
    {
      "cell_type": "code",
      "execution_count": null,
      "metadata": {
        "colab": {
          "base_uri": "https://localhost:8080/",
          "height": 206
        },
        "id": "EbM1rPPJdut9",
        "outputId": "a1aa6e7b-6d92-41b2-9541-bd8c63aad4a6"
      },
      "outputs": [
        {
          "data": {
            "text/html": [
              "\n",
              "  <div id=\"df-f0936791-5e0a-473d-bd1a-3cfa81fa46f7\">\n",
              "    <div class=\"colab-df-container\">\n",
              "      <div>\n",
              "<style scoped>\n",
              "    .dataframe tbody tr th:only-of-type {\n",
              "        vertical-align: middle;\n",
              "    }\n",
              "\n",
              "    .dataframe tbody tr th {\n",
              "        vertical-align: top;\n",
              "    }\n",
              "\n",
              "    .dataframe thead th {\n",
              "        text-align: right;\n",
              "    }\n",
              "</style>\n",
              "<table border=\"1\" class=\"dataframe\">\n",
              "  <thead>\n",
              "    <tr style=\"text-align: right;\">\n",
              "      <th></th>\n",
              "      <th>latitude</th>\n",
              "      <th>longitude</th>\n",
              "      <th>altitude</th>\n",
              "      <th>date</th>\n",
              "      <th>time</th>\n",
              "      <th>individual_id</th>\n",
              "      <th>trajectory_id</th>\n",
              "      <th>coordinate</th>\n",
              "    </tr>\n",
              "  </thead>\n",
              "  <tbody>\n",
              "    <tr>\n",
              "      <th>0</th>\n",
              "      <td>39.984702</td>\n",
              "      <td>116.318417</td>\n",
              "      <td>492.0</td>\n",
              "      <td>2023-10-23</td>\n",
              "      <td>02:53:04</td>\n",
              "      <td>1</td>\n",
              "      <td>1</td>\n",
              "      <td>[39.984702, 116.318417, 492.0]</td>\n",
              "    </tr>\n",
              "    <tr>\n",
              "      <th>1</th>\n",
              "      <td>39.984683</td>\n",
              "      <td>116.318450</td>\n",
              "      <td>492.0</td>\n",
              "      <td>2023-10-23</td>\n",
              "      <td>02:53:10</td>\n",
              "      <td>1</td>\n",
              "      <td>1</td>\n",
              "      <td>[39.984683, 116.31845, 492.0]</td>\n",
              "    </tr>\n",
              "    <tr>\n",
              "      <th>2</th>\n",
              "      <td>39.984686</td>\n",
              "      <td>116.318417</td>\n",
              "      <td>492.0</td>\n",
              "      <td>2023-10-23</td>\n",
              "      <td>02:53:15</td>\n",
              "      <td>1</td>\n",
              "      <td>1</td>\n",
              "      <td>[39.984686, 116.318417, 492.0]</td>\n",
              "    </tr>\n",
              "    <tr>\n",
              "      <th>3</th>\n",
              "      <td>39.984688</td>\n",
              "      <td>116.318385</td>\n",
              "      <td>492.0</td>\n",
              "      <td>2023-10-23</td>\n",
              "      <td>02:53:20</td>\n",
              "      <td>1</td>\n",
              "      <td>1</td>\n",
              "      <td>[39.984688, 116.318385, 492.0]</td>\n",
              "    </tr>\n",
              "    <tr>\n",
              "      <th>4</th>\n",
              "      <td>39.984655</td>\n",
              "      <td>116.318263</td>\n",
              "      <td>492.0</td>\n",
              "      <td>2023-10-23</td>\n",
              "      <td>02:53:25</td>\n",
              "      <td>1</td>\n",
              "      <td>1</td>\n",
              "      <td>[39.984655, 116.318263, 492.0]</td>\n",
              "    </tr>\n",
              "  </tbody>\n",
              "</table>\n",
              "</div>\n",
              "      <button class=\"colab-df-convert\" onclick=\"convertToInteractive('df-f0936791-5e0a-473d-bd1a-3cfa81fa46f7')\"\n",
              "              title=\"Convert this dataframe to an interactive table.\"\n",
              "              style=\"display:none;\">\n",
              "        \n",
              "  <svg xmlns=\"http://www.w3.org/2000/svg\" height=\"24px\"viewBox=\"0 0 24 24\"\n",
              "       width=\"24px\">\n",
              "    <path d=\"M0 0h24v24H0V0z\" fill=\"none\"/>\n",
              "    <path d=\"M18.56 5.44l.94 2.06.94-2.06 2.06-.94-2.06-.94-.94-2.06-.94 2.06-2.06.94zm-11 1L8.5 8.5l.94-2.06 2.06-.94-2.06-.94L8.5 2.5l-.94 2.06-2.06.94zm10 10l.94 2.06.94-2.06 2.06-.94-2.06-.94-.94-2.06-.94 2.06-2.06.94z\"/><path d=\"M17.41 7.96l-1.37-1.37c-.4-.4-.92-.59-1.43-.59-.52 0-1.04.2-1.43.59L10.3 9.45l-7.72 7.72c-.78.78-.78 2.05 0 2.83L4 21.41c.39.39.9.59 1.41.59.51 0 1.02-.2 1.41-.59l7.78-7.78 2.81-2.81c.8-.78.8-2.07 0-2.86zM5.41 20L4 18.59l7.72-7.72 1.47 1.35L5.41 20z\"/>\n",
              "  </svg>\n",
              "      </button>\n",
              "      \n",
              "  <style>\n",
              "    .colab-df-container {\n",
              "      display:flex;\n",
              "      flex-wrap:wrap;\n",
              "      gap: 12px;\n",
              "    }\n",
              "\n",
              "    .colab-df-convert {\n",
              "      background-color: #E8F0FE;\n",
              "      border: none;\n",
              "      border-radius: 50%;\n",
              "      cursor: pointer;\n",
              "      display: none;\n",
              "      fill: #1967D2;\n",
              "      height: 32px;\n",
              "      padding: 0 0 0 0;\n",
              "      width: 32px;\n",
              "    }\n",
              "\n",
              "    .colab-df-convert:hover {\n",
              "      background-color: #E2EBFA;\n",
              "      box-shadow: 0px 1px 2px rgba(60, 64, 67, 0.3), 0px 1px 3px 1px rgba(60, 64, 67, 0.15);\n",
              "      fill: #174EA6;\n",
              "    }\n",
              "\n",
              "    [theme=dark] .colab-df-convert {\n",
              "      background-color: #3B4455;\n",
              "      fill: #D2E3FC;\n",
              "    }\n",
              "\n",
              "    [theme=dark] .colab-df-convert:hover {\n",
              "      background-color: #434B5C;\n",
              "      box-shadow: 0px 1px 3px 1px rgba(0, 0, 0, 0.15);\n",
              "      filter: drop-shadow(0px 1px 2px rgba(0, 0, 0, 0.3));\n",
              "      fill: #FFFFFF;\n",
              "    }\n",
              "  </style>\n",
              "\n",
              "      <script>\n",
              "        const buttonEl =\n",
              "          document.querySelector('#df-f0936791-5e0a-473d-bd1a-3cfa81fa46f7 button.colab-df-convert');\n",
              "        buttonEl.style.display =\n",
              "          google.colab.kernel.accessAllowed ? 'block' : 'none';\n",
              "\n",
              "        async function convertToInteractive(key) {\n",
              "          const element = document.querySelector('#df-f0936791-5e0a-473d-bd1a-3cfa81fa46f7');\n",
              "          const dataTable =\n",
              "            await google.colab.kernel.invokeFunction('convertToInteractive',\n",
              "                                                     [key], {});\n",
              "          if (!dataTable) return;\n",
              "\n",
              "          const docLinkHtml = 'Like what you see? Visit the ' +\n",
              "            '<a target=\"_blank\" href=https://colab.research.google.com/notebooks/data_table.ipynb>data table notebook</a>'\n",
              "            + ' to learn more about interactive tables.';\n",
              "          element.innerHTML = '';\n",
              "          dataTable['output_type'] = 'display_data';\n",
              "          await google.colab.output.renderOutput(dataTable, element);\n",
              "          const docLink = document.createElement('div');\n",
              "          docLink.innerHTML = docLinkHtml;\n",
              "          element.appendChild(docLink);\n",
              "        }\n",
              "      </script>\n",
              "    </div>\n",
              "  </div>\n",
              "  "
            ],
            "text/plain": [
              "    latitude   longitude  altitude        date      time  individual_id  \\\n",
              "0  39.984702  116.318417     492.0  2023-10-23  02:53:04              1   \n",
              "1  39.984683  116.318450     492.0  2023-10-23  02:53:10              1   \n",
              "2  39.984686  116.318417     492.0  2023-10-23  02:53:15              1   \n",
              "3  39.984688  116.318385     492.0  2023-10-23  02:53:20              1   \n",
              "4  39.984655  116.318263     492.0  2023-10-23  02:53:25              1   \n",
              "\n",
              "   trajectory_id                      coordinate  \n",
              "0              1  [39.984702, 116.318417, 492.0]  \n",
              "1              1   [39.984683, 116.31845, 492.0]  \n",
              "2              1  [39.984686, 116.318417, 492.0]  \n",
              "3              1  [39.984688, 116.318385, 492.0]  \n",
              "4              1  [39.984655, 116.318263, 492.0]  "
            ]
          },
          "execution_count": 10,
          "metadata": {},
          "output_type": "execute_result"
        }
      ],
      "source": [
        "df.head()"
      ]
    },
    {
      "cell_type": "code",
      "execution_count": null,
      "metadata": {
        "id": "nwCXE9FZdys4"
      },
      "outputs": [],
      "source": [
        "import concurrent.futures\n",
        "from math import radians, cos, sin, sqrt, atan2"
      ]
    },
    {
      "cell_type": "code",
      "execution_count": null,
      "metadata": {
        "id": "ySrv2LjJd7K8"
      },
      "outputs": [],
      "source": [
        "def calculate_distance(p1, p2):\n",
        "    # Convert latitude and longitude from degrees to radians\n",
        "    lat1, lon1 = map(radians, p1[:2])\n",
        "    lat2, lon2 = map(radians, p2[:2])\n",
        "\n",
        "    dlat = lat2 - lat1\n",
        "    dlon = lon2 - lon1\n",
        "    a = sin(dlat / 2) ** 2 + cos(lat1) * cos(lat2) * sin(dlon / 2) ** 2\n",
        "    c = 2 * atan2(sqrt(a), sqrt(1 - a))\n",
        "    distance = 6371 * c * 1000  # Radius of Earth in meters\n",
        "\n",
        "    alt1, alt2 = p1[2], p2[2]\n",
        "    if alt1 is not None and alt2 is not None:\n",
        "        distance += abs(alt2 - alt1)\n",
        "\n",
        "    return distance\n"
      ]
    },
    {
      "cell_type": "code",
      "execution_count": null,
      "metadata": {
        "colab": {
          "base_uri": "https://localhost:8080/"
        },
        "id": "fa6c2oMRi7fo",
        "outputId": "221e1168-caab-4f75-8f5d-6a834aa6d37b"
      },
      "outputs": [
        {
          "data": {
            "text/plain": [
              "[39.984683, 116.31845, 492.0]"
            ]
          },
          "execution_count": 31,
          "metadata": {},
          "output_type": "execute_result"
        }
      ],
      "source": [
        "df.iloc[1]['coordinate']"
      ]
    },
    {
      "cell_type": "code",
      "execution_count": null,
      "metadata": {
        "id": "Mz_yTi9IayTA"
      },
      "outputs": [],
      "source": [
        "\n",
        "\n",
        "def multithreaded(df, chunk_size=1000):\n",
        "    total_distance = {}\n",
        "\n",
        "    def calculate_chunk_distance(chunk):\n",
        "        chunk_distance = {}\n",
        "        for individual_id, coordinate in chunk:\n",
        "            distances = [calculate_distance(df.iloc[i]['coordinate'], df.iloc[i+1]['coordinate']) for i in range(len(coordinate)-1)]\n",
        "            total_distance_traveled = sum(distances)\n",
        "            chunk_distance[individual_id] = total_distance_traveled\n",
        "\n",
        "        return chunk_distance\n",
        "\n",
        "    chunks = [{individual_id: coordinate} for individual_id,coordinate  in df.items()]\n",
        "    chunks = [chunks[i:i+chunk_size] for i in range(0, len(chunks), chunk_size)]\n",
        "\n",
        "    with concurrent.futures.ThreadPoolExecutor() as executor:\n",
        "        futures = [executor.submit(calculate_chunk_distance, chunk) for chunk in chunks]\n",
        "\n",
        "\n",
        "        for future in concurrent.futures.as_completed(futures):\n",
        "            chunk_distance = future.result()\n",
        "            for individual_id, distance in chunk_distance.items():\n",
        "                if individual_id in total_distance:\n",
        "                    total_distance[individual_id] += distance\n",
        "                else:\n",
        "                    total_distance[individual_id] = distance\n",
        "\n",
        "    return total_distance\n"
      ]
    },
    {
      "cell_type": "code",
      "execution_count": null,
      "metadata": {
        "id": "mw256IrAl2xV"
      },
      "outputs": [],
      "source": [
        "df2= df.loc[df['individual_id'] == 1]"
      ]
    },
    {
      "cell_type": "code",
      "execution_count": null,
      "metadata": {
        "colab": {
          "base_uri": "https://localhost:8080/",
          "height": 165
        },
        "id": "Q2FY1gDpo4Jt",
        "outputId": "f0ea597f-e7f9-4df1-dad0-7531983b5f20"
      },
      "outputs": [
        {
          "ename": "NameError",
          "evalue": "ignored",
          "output_type": "error",
          "traceback": [
            "\u001b[0;31m---------------------------------------------------------------------------\u001b[0m",
            "\u001b[0;31mNameError\u001b[0m                                 Traceback (most recent call last)",
            "\u001b[0;32m<ipython-input-1-37b09079bd38>\u001b[0m in \u001b[0;36m<cell line: 1>\u001b[0;34m()\u001b[0m\n\u001b[0;32m----> 1\u001b[0;31m \u001b[0mdf2\u001b[0m \u001b[0;34m=\u001b[0m \u001b[0mdf\u001b[0m\u001b[0;34m.\u001b[0m\u001b[0mhead\u001b[0m\u001b[0;34m(\u001b[0m\u001b[0;36m1000\u001b[0m\u001b[0;34m)\u001b[0m\u001b[0;34m\u001b[0m\u001b[0;34m\u001b[0m\u001b[0m\n\u001b[0m",
            "\u001b[0;31mNameError\u001b[0m: name 'df' is not defined"
          ]
        }
      ],
      "source": [
        "df2 = df.head(1000)"
      ]
    },
    {
      "cell_type": "code",
      "execution_count": null,
      "metadata": {
        "id": "N58ohmwKdxqd"
      },
      "outputs": [],
      "source": [
        "import folium\n",
        "\n",
        "beijing_map = folium.Map(location=[39.9042, 116.4074], zoom_start=12)\n",
        "\n",
        "\n",
        "for _, row in df2.iterrows():\n",
        "    lat = row['latitude']\n",
        "    lon = row['longitude']\n",
        "    alt = row['altitude']\n",
        "\n",
        "\n",
        "    popup_msg = 'Altitude: {} meters'.format(alt) if not pd.isnull(alt) else 'Altitude: unknown'\n",
        "\n",
        "    # Add a marker for the point to the map\n",
        "    marker = folium.Marker(location=[lat, lon], popup=popup_msg)\n",
        "    marker.add_to(beijing_map)\n",
        "\n",
        "# Display the map\n",
        "beijing_map\n"
      ]
    },
    {
      "cell_type": "code",
      "execution_count": null,
      "metadata": {
        "id": "jNZWo_p12dB_"
      },
      "outputs": [],
      "source": [
        "import pandas as pd\n",
        "import folium\n",
        "\n",
        "\n",
        "df = pd.read_csv('path/to/dataset.csv')\n",
        "\n",
        "\n",
        "beijing_map = folium.Map(location=[39.9042, 116.4074], zoom_start=12)\n",
        "\n",
        "\n",
        "for user_id in df.groupby('individual_id'):\n",
        "    # Create a feature group for this user's trajectory\n",
        "    user_traj = folium.FeatureGroup(name='User {}'.format(user_id))\n",
        "\n",
        "    # Iterate over the rows of this user's trajectory and add markers for each point\n",
        "    for _, row in user_group.iterrows():\n",
        "        # Get the latitude, longitude, and altitude values\n",
        "        lat = row['latitude']\n",
        "        lon = row['longitude']\n",
        "        alt = row['altitude']\n",
        "\n",
        "        # Create a popup message to display the altitude value\n",
        "        popup_msg = 'Altitude: {} meters'.format(alt) if not pd.isnull(alt) else 'Altitude: unknown'\n",
        "\n",
        "        # Add a marker for the point to the user's trajectory\n",
        "        marker = folium.Marker(location=[lat, lon], popup=popup_msg)\n",
        "        marker.add_to(user_traj)\n",
        "\n",
        "    # Add the user's trajectory to the map\n",
        "    user_traj.add_to(beijing_map)\n",
        "\n",
        "# Add a layer control to the map\n",
        "folium.LayerControl().add_to(beijing_map)\n",
        "\n",
        "# Display the map\n",
        "beijing_map\n"
      ]
    },
    {
      "cell_type": "code",
      "execution_count": null,
      "metadata": {
        "id": "F9z-fwNJpnOU"
      },
      "outputs": [],
      "source": [
        "from sklearn.cluster import KMeans\n",
        "\n",
        "# Select only the latitude and longitude columns of the dataset\n",
        "X = df[['latitude', 'longitude']]\n",
        "\n",
        "# Fit a KMeans model with 10 clusters\n",
        "kmeans = KMeans(n_clusters=10).fit(X)\n",
        "\n",
        "# Add the cluster centers as markers to the map\n",
        "cluster_centers = kmeans.cluster_centers_\n",
        "for center in cluster_centers:\n",
        "    marker = folium.Marker(location=[center[0], center[1]], icon=folium.Icon(color='red'))\n",
        "    marker.add_to(beijing_map)\n",
        "\n",
        "# Display the map\n",
        "beijing_map\n"
      ]
    }
  ],
  "metadata": {
    "accelerator": "GPU",
    "colab": {
      "provenance": []
    },
    "gpuClass": "standard",
    "kernelspec": {
      "display_name": "Python 3",
      "name": "python3"
    },
    "language_info": {
      "name": "python"
    }
  },
  "nbformat": 4,
  "nbformat_minor": 0
}