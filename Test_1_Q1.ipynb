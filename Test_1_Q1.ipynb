{
  "cells": [
    {
      "cell_type": "code",
      "execution_count": null,
      "id": "bedd8a7b",
      "metadata": {
        "id": "bedd8a7b"
      },
      "outputs": [],
      "source": [
        "import numpy as np\n",
        "import pandas as pd"
      ]
    },
    {
      "cell_type": "code",
      "source": [
        "from google.colab import drive\n",
        "drive.mount('/content/drive')"
      ],
      "metadata": {
        "colab": {
          "base_uri": "https://localhost:8080/"
        },
        "id": "Dec3f8-MVRJA",
        "outputId": "cf392b47-1bd4-45c3-978e-ddfab69f8e9d"
      },
      "id": "Dec3f8-MVRJA",
      "execution_count": null,
      "outputs": [
        {
          "output_type": "stream",
          "name": "stdout",
          "text": [
            "Mounted at /content/drive\n"
          ]
        }
      ]
    },
    {
      "cell_type": "code",
      "execution_count": null,
      "id": "616bb568",
      "metadata": {
        "id": "616bb568"
      },
      "outputs": [],
      "source": [
        "df = pd.read_csv(\"/content/drive/MyDrive/bike_data_new.csv\")"
      ]
    },
    {
      "cell_type": "code",
      "execution_count": null,
      "id": "95d8684a",
      "metadata": {
        "colab": {
          "base_uri": "https://localhost:8080/",
          "height": 206
        },
        "id": "95d8684a",
        "outputId": "72200ee4-9edd-4159-c80d-5424242271c0"
      },
      "outputs": [
        {
          "output_type": "execute_result",
          "data": {
            "text/plain": [
              "   trip_id        started_at          ended_at  start_lat  start_lng  \\\n",
              "0        1  01-02-2023 00:03  01-02-2023 00:13  38.905470 -77.002130   \n",
              "1        2  01-02-2023 00:06  01-02-2023 00:19  38.907693 -77.071512   \n",
              "2        3  01-02-2023 00:07  01-02-2023 00:14  38.915544 -77.038252   \n",
              "3        4  01-02-2023 00:07  01-02-2023 00:26  38.909701 -77.085646   \n",
              "4        5  01-02-2023 00:10  01-02-2023 00:20  38.905509 -77.065246   \n",
              "\n",
              "     end_lat    end_lng  \n",
              "0  38.906299 -76.983221  \n",
              "1  38.909858 -77.038566  \n",
              "2  38.916137 -77.022003  \n",
              "3  38.935839 -77.106913  \n",
              "4  38.898302 -77.046913  "
            ],
            "text/html": [
              "\n",
              "  <div id=\"df-35aae1a0-fbb7-4dd3-b643-2e6c4b091d07\">\n",
              "    <div class=\"colab-df-container\">\n",
              "      <div>\n",
              "<style scoped>\n",
              "    .dataframe tbody tr th:only-of-type {\n",
              "        vertical-align: middle;\n",
              "    }\n",
              "\n",
              "    .dataframe tbody tr th {\n",
              "        vertical-align: top;\n",
              "    }\n",
              "\n",
              "    .dataframe thead th {\n",
              "        text-align: right;\n",
              "    }\n",
              "</style>\n",
              "<table border=\"1\" class=\"dataframe\">\n",
              "  <thead>\n",
              "    <tr style=\"text-align: right;\">\n",
              "      <th></th>\n",
              "      <th>trip_id</th>\n",
              "      <th>started_at</th>\n",
              "      <th>ended_at</th>\n",
              "      <th>start_lat</th>\n",
              "      <th>start_lng</th>\n",
              "      <th>end_lat</th>\n",
              "      <th>end_lng</th>\n",
              "    </tr>\n",
              "  </thead>\n",
              "  <tbody>\n",
              "    <tr>\n",
              "      <th>0</th>\n",
              "      <td>1</td>\n",
              "      <td>01-02-2023 00:03</td>\n",
              "      <td>01-02-2023 00:13</td>\n",
              "      <td>38.905470</td>\n",
              "      <td>-77.002130</td>\n",
              "      <td>38.906299</td>\n",
              "      <td>-76.983221</td>\n",
              "    </tr>\n",
              "    <tr>\n",
              "      <th>1</th>\n",
              "      <td>2</td>\n",
              "      <td>01-02-2023 00:06</td>\n",
              "      <td>01-02-2023 00:19</td>\n",
              "      <td>38.907693</td>\n",
              "      <td>-77.071512</td>\n",
              "      <td>38.909858</td>\n",
              "      <td>-77.038566</td>\n",
              "    </tr>\n",
              "    <tr>\n",
              "      <th>2</th>\n",
              "      <td>3</td>\n",
              "      <td>01-02-2023 00:07</td>\n",
              "      <td>01-02-2023 00:14</td>\n",
              "      <td>38.915544</td>\n",
              "      <td>-77.038252</td>\n",
              "      <td>38.916137</td>\n",
              "      <td>-77.022003</td>\n",
              "    </tr>\n",
              "    <tr>\n",
              "      <th>3</th>\n",
              "      <td>4</td>\n",
              "      <td>01-02-2023 00:07</td>\n",
              "      <td>01-02-2023 00:26</td>\n",
              "      <td>38.909701</td>\n",
              "      <td>-77.085646</td>\n",
              "      <td>38.935839</td>\n",
              "      <td>-77.106913</td>\n",
              "    </tr>\n",
              "    <tr>\n",
              "      <th>4</th>\n",
              "      <td>5</td>\n",
              "      <td>01-02-2023 00:10</td>\n",
              "      <td>01-02-2023 00:20</td>\n",
              "      <td>38.905509</td>\n",
              "      <td>-77.065246</td>\n",
              "      <td>38.898302</td>\n",
              "      <td>-77.046913</td>\n",
              "    </tr>\n",
              "  </tbody>\n",
              "</table>\n",
              "</div>\n",
              "      <button class=\"colab-df-convert\" onclick=\"convertToInteractive('df-35aae1a0-fbb7-4dd3-b643-2e6c4b091d07')\"\n",
              "              title=\"Convert this dataframe to an interactive table.\"\n",
              "              style=\"display:none;\">\n",
              "        \n",
              "  <svg xmlns=\"http://www.w3.org/2000/svg\" height=\"24px\"viewBox=\"0 0 24 24\"\n",
              "       width=\"24px\">\n",
              "    <path d=\"M0 0h24v24H0V0z\" fill=\"none\"/>\n",
              "    <path d=\"M18.56 5.44l.94 2.06.94-2.06 2.06-.94-2.06-.94-.94-2.06-.94 2.06-2.06.94zm-11 1L8.5 8.5l.94-2.06 2.06-.94-2.06-.94L8.5 2.5l-.94 2.06-2.06.94zm10 10l.94 2.06.94-2.06 2.06-.94-2.06-.94-.94-2.06-.94 2.06-2.06.94z\"/><path d=\"M17.41 7.96l-1.37-1.37c-.4-.4-.92-.59-1.43-.59-.52 0-1.04.2-1.43.59L10.3 9.45l-7.72 7.72c-.78.78-.78 2.05 0 2.83L4 21.41c.39.39.9.59 1.41.59.51 0 1.02-.2 1.41-.59l7.78-7.78 2.81-2.81c.8-.78.8-2.07 0-2.86zM5.41 20L4 18.59l7.72-7.72 1.47 1.35L5.41 20z\"/>\n",
              "  </svg>\n",
              "      </button>\n",
              "      \n",
              "  <style>\n",
              "    .colab-df-container {\n",
              "      display:flex;\n",
              "      flex-wrap:wrap;\n",
              "      gap: 12px;\n",
              "    }\n",
              "\n",
              "    .colab-df-convert {\n",
              "      background-color: #E8F0FE;\n",
              "      border: none;\n",
              "      border-radius: 50%;\n",
              "      cursor: pointer;\n",
              "      display: none;\n",
              "      fill: #1967D2;\n",
              "      height: 32px;\n",
              "      padding: 0 0 0 0;\n",
              "      width: 32px;\n",
              "    }\n",
              "\n",
              "    .colab-df-convert:hover {\n",
              "      background-color: #E2EBFA;\n",
              "      box-shadow: 0px 1px 2px rgba(60, 64, 67, 0.3), 0px 1px 3px 1px rgba(60, 64, 67, 0.15);\n",
              "      fill: #174EA6;\n",
              "    }\n",
              "\n",
              "    [theme=dark] .colab-df-convert {\n",
              "      background-color: #3B4455;\n",
              "      fill: #D2E3FC;\n",
              "    }\n",
              "\n",
              "    [theme=dark] .colab-df-convert:hover {\n",
              "      background-color: #434B5C;\n",
              "      box-shadow: 0px 1px 3px 1px rgba(0, 0, 0, 0.15);\n",
              "      filter: drop-shadow(0px 1px 2px rgba(0, 0, 0, 0.3));\n",
              "      fill: #FFFFFF;\n",
              "    }\n",
              "  </style>\n",
              "\n",
              "      <script>\n",
              "        const buttonEl =\n",
              "          document.querySelector('#df-35aae1a0-fbb7-4dd3-b643-2e6c4b091d07 button.colab-df-convert');\n",
              "        buttonEl.style.display =\n",
              "          google.colab.kernel.accessAllowed ? 'block' : 'none';\n",
              "\n",
              "        async function convertToInteractive(key) {\n",
              "          const element = document.querySelector('#df-35aae1a0-fbb7-4dd3-b643-2e6c4b091d07');\n",
              "          const dataTable =\n",
              "            await google.colab.kernel.invokeFunction('convertToInteractive',\n",
              "                                                     [key], {});\n",
              "          if (!dataTable) return;\n",
              "\n",
              "          const docLinkHtml = 'Like what you see? Visit the ' +\n",
              "            '<a target=\"_blank\" href=https://colab.research.google.com/notebooks/data_table.ipynb>data table notebook</a>'\n",
              "            + ' to learn more about interactive tables.';\n",
              "          element.innerHTML = '';\n",
              "          dataTable['output_type'] = 'display_data';\n",
              "          await google.colab.output.renderOutput(dataTable, element);\n",
              "          const docLink = document.createElement('div');\n",
              "          docLink.innerHTML = docLinkHtml;\n",
              "          element.appendChild(docLink);\n",
              "        }\n",
              "      </script>\n",
              "    </div>\n",
              "  </div>\n",
              "  "
            ]
          },
          "metadata": {},
          "execution_count": 4
        }
      ],
      "source": [
        "df.head()"
      ]
    },
    {
      "cell_type": "code",
      "execution_count": null,
      "id": "7cbf482a",
      "metadata": {
        "colab": {
          "base_uri": "https://localhost:8080/"
        },
        "id": "7cbf482a",
        "outputId": "773d5145-5748-4972-dc7f-80036033d593"
      },
      "outputs": [
        {
          "output_type": "stream",
          "name": "stdout",
          "text": [
            "<class 'pandas.core.frame.DataFrame'>\n",
            "RangeIndex: 6867 entries, 0 to 6866\n",
            "Data columns (total 7 columns):\n",
            " #   Column      Non-Null Count  Dtype  \n",
            "---  ------      --------------  -----  \n",
            " 0   trip_id     6867 non-null   int64  \n",
            " 1   started_at  6867 non-null   object \n",
            " 2   ended_at    6867 non-null   object \n",
            " 3   start_lat   6867 non-null   float64\n",
            " 4   start_lng   6867 non-null   float64\n",
            " 5   end_lat     6867 non-null   float64\n",
            " 6   end_lng     6867 non-null   float64\n",
            "dtypes: float64(4), int64(1), object(2)\n",
            "memory usage: 375.7+ KB\n"
          ]
        }
      ],
      "source": [
        "df.info()"
      ]
    },
    {
      "cell_type": "code",
      "execution_count": null,
      "id": "e8b8d63d",
      "metadata": {
        "id": "e8b8d63d"
      },
      "outputs": [],
      "source": [
        "df['started_at'] = pd.to_datetime(df['started_at'])"
      ]
    },
    {
      "cell_type": "code",
      "execution_count": null,
      "id": "cdaa328d",
      "metadata": {
        "id": "cdaa328d"
      },
      "outputs": [],
      "source": [
        "df['ended_at'] = pd.to_datetime(df['ended_at'])"
      ]
    },
    {
      "cell_type": "code",
      "execution_count": null,
      "id": "fe171de5",
      "metadata": {
        "colab": {
          "base_uri": "https://localhost:8080/"
        },
        "id": "fe171de5",
        "outputId": "6cb314f1-ce28-4508-ae76-7c214f21a029"
      },
      "outputs": [
        {
          "output_type": "stream",
          "name": "stdout",
          "text": [
            "<class 'pandas.core.frame.DataFrame'>\n",
            "RangeIndex: 6867 entries, 0 to 6866\n",
            "Data columns (total 7 columns):\n",
            " #   Column      Non-Null Count  Dtype         \n",
            "---  ------      --------------  -----         \n",
            " 0   trip_id     6867 non-null   int64         \n",
            " 1   started_at  6867 non-null   datetime64[ns]\n",
            " 2   ended_at    6867 non-null   datetime64[ns]\n",
            " 3   start_lat   6867 non-null   float64       \n",
            " 4   start_lng   6867 non-null   float64       \n",
            " 5   end_lat     6867 non-null   float64       \n",
            " 6   end_lng     6867 non-null   float64       \n",
            "dtypes: datetime64[ns](2), float64(4), int64(1)\n",
            "memory usage: 375.7 KB\n"
          ]
        }
      ],
      "source": [
        "df.info()"
      ]
    },
    {
      "cell_type": "code",
      "execution_count": null,
      "id": "30fa6602",
      "metadata": {
        "id": "30fa6602"
      },
      "outputs": [],
      "source": [
        "time_diff = []\n",
        "num = 0\n",
        "for i in range(len(df)):\n",
        "    t1 = df.iloc[i]['started_at']\n",
        "    t2 = df.iloc[i]['ended_at']\n",
        "    diff = pd.Timedelta(t2 - t1).seconds\n",
        "    time_diff.append(diff)"
      ]
    },
    {
      "cell_type": "code",
      "execution_count": null,
      "id": "4cb1c2a0",
      "metadata": {
        "colab": {
          "base_uri": "https://localhost:8080/"
        },
        "id": "4cb1c2a0",
        "outputId": "77d5056d-aa5a-455b-8ac1-bf816f776b00"
      },
      "outputs": [
        {
          "output_type": "stream",
          "name": "stdout",
          "text": [
            "[135, 286, 428, 532, 562, 767, 969, 1034, 1134, 1180, 1266, 1344, 1354, 1549, 1569, 1570, 1585, 1595, 1668, 1798, 1962, 2308, 2493, 2578, 2703, 2903, 2971, 3069, 3078, 3195, 3213, 3257, 3525, 3701, 3995, 4162, 4444, 4708, 4816, 4940, 5313, 5661, 5827, 5972, 6067, 6606]\n"
          ]
        }
      ],
      "source": [
        "z_list = [i for i, value in enumerate(time_diff) if value == 0]\n",
        "print(z_list)"
      ]
    },
    {
      "cell_type": "code",
      "execution_count": null,
      "id": "17594d0a",
      "metadata": {
        "id": "17594d0a"
      },
      "outputs": [],
      "source": [
        "df = df.drop(z_list)"
      ]
    },
    {
      "cell_type": "code",
      "execution_count": null,
      "id": "42b4fcc8",
      "metadata": {
        "id": "42b4fcc8"
      },
      "outputs": [],
      "source": [
        "\n",
        "time_diff = list(filter(lambda num: num != 0, time_diff))"
      ]
    },
    {
      "cell_type": "code",
      "execution_count": null,
      "id": "37594974",
      "metadata": {
        "colab": {
          "base_uri": "https://localhost:8080/"
        },
        "id": "37594974",
        "outputId": "5b74b458-953d-47be-aa6a-f85d12e3c74c"
      },
      "outputs": [
        {
          "output_type": "stream",
          "name": "stdout",
          "text": [
            "6821\n",
            "6821\n"
          ]
        }
      ],
      "source": [
        "print(len(df))\n",
        "print(len(time_diff))"
      ]
    },
    {
      "cell_type": "code",
      "execution_count": null,
      "id": "937e90f0",
      "metadata": {
        "colab": {
          "base_uri": "https://localhost:8080/"
        },
        "id": "937e90f0",
        "outputId": "17bc84a2-5218-47b1-96e0-80592cbe32b9"
      },
      "outputs": [
        {
          "output_type": "stream",
          "name": "stdout",
          "text": [
            "max values:  31080\n",
            "min values:  60\n",
            "number of min values:  89\n"
          ]
        }
      ],
      "source": [
        "print(\"max values: \", max(time_diff))\n",
        "print(\"min values: \", min(time_diff))\n",
        "print(\"number of min values: \", time_diff.count(min(time_diff)))"
      ]
    },
    {
      "cell_type": "code",
      "execution_count": null,
      "id": "abc073d6",
      "metadata": {
        "colab": {
          "base_uri": "https://localhost:8080/"
        },
        "id": "abc073d6",
        "outputId": "dec9fbb5-a563-423b-c26f-f8cf3b614984"
      },
      "outputs": [
        {
          "output_type": "stream",
          "name": "stdout",
          "text": [
            "number of round trip:  1\n"
          ]
        }
      ],
      "source": [
        "num=0\n",
        "for i in range(len(df)):\n",
        "    if df.iloc[i]['start_lat'] == df.iloc[i]['end_lat'] and df.iloc[i]['start_lng'] == df.iloc[i]['end_lng']:\n",
        "        num =+ 1\n",
        "\n",
        "print(\"number of round trip: \", num)"
      ]
    },
    {
      "cell_type": "code",
      "execution_count": null,
      "id": "956a21e0",
      "metadata": {
        "colab": {
          "base_uri": "https://localhost:8080/",
          "height": 206
        },
        "id": "956a21e0",
        "outputId": "cf4dff52-566e-4f79-b343-f425f0b86e8f"
      },
      "outputs": [
        {
          "output_type": "execute_result",
          "data": {
            "text/plain": [
              "   trip_id          started_at            ended_at  start_lat  start_lng  \\\n",
              "0        1 2023-01-02 00:03:00 2023-01-02 00:13:00  38.905470 -77.002130   \n",
              "1        2 2023-01-02 00:06:00 2023-01-02 00:19:00  38.907693 -77.071512   \n",
              "2        3 2023-01-02 00:07:00 2023-01-02 00:14:00  38.915544 -77.038252   \n",
              "3        4 2023-01-02 00:07:00 2023-01-02 00:26:00  38.909701 -77.085646   \n",
              "4        5 2023-01-02 00:10:00 2023-01-02 00:20:00  38.905509 -77.065246   \n",
              "\n",
              "     end_lat    end_lng  \n",
              "0  38.906299 -76.983221  \n",
              "1  38.909858 -77.038566  \n",
              "2  38.916137 -77.022003  \n",
              "3  38.935839 -77.106913  \n",
              "4  38.898302 -77.046913  "
            ],
            "text/html": [
              "\n",
              "  <div id=\"df-ea2c5706-bfc2-4cf9-88e0-47b5e3abb508\">\n",
              "    <div class=\"colab-df-container\">\n",
              "      <div>\n",
              "<style scoped>\n",
              "    .dataframe tbody tr th:only-of-type {\n",
              "        vertical-align: middle;\n",
              "    }\n",
              "\n",
              "    .dataframe tbody tr th {\n",
              "        vertical-align: top;\n",
              "    }\n",
              "\n",
              "    .dataframe thead th {\n",
              "        text-align: right;\n",
              "    }\n",
              "</style>\n",
              "<table border=\"1\" class=\"dataframe\">\n",
              "  <thead>\n",
              "    <tr style=\"text-align: right;\">\n",
              "      <th></th>\n",
              "      <th>trip_id</th>\n",
              "      <th>started_at</th>\n",
              "      <th>ended_at</th>\n",
              "      <th>start_lat</th>\n",
              "      <th>start_lng</th>\n",
              "      <th>end_lat</th>\n",
              "      <th>end_lng</th>\n",
              "    </tr>\n",
              "  </thead>\n",
              "  <tbody>\n",
              "    <tr>\n",
              "      <th>0</th>\n",
              "      <td>1</td>\n",
              "      <td>2023-01-02 00:03:00</td>\n",
              "      <td>2023-01-02 00:13:00</td>\n",
              "      <td>38.905470</td>\n",
              "      <td>-77.002130</td>\n",
              "      <td>38.906299</td>\n",
              "      <td>-76.983221</td>\n",
              "    </tr>\n",
              "    <tr>\n",
              "      <th>1</th>\n",
              "      <td>2</td>\n",
              "      <td>2023-01-02 00:06:00</td>\n",
              "      <td>2023-01-02 00:19:00</td>\n",
              "      <td>38.907693</td>\n",
              "      <td>-77.071512</td>\n",
              "      <td>38.909858</td>\n",
              "      <td>-77.038566</td>\n",
              "    </tr>\n",
              "    <tr>\n",
              "      <th>2</th>\n",
              "      <td>3</td>\n",
              "      <td>2023-01-02 00:07:00</td>\n",
              "      <td>2023-01-02 00:14:00</td>\n",
              "      <td>38.915544</td>\n",
              "      <td>-77.038252</td>\n",
              "      <td>38.916137</td>\n",
              "      <td>-77.022003</td>\n",
              "    </tr>\n",
              "    <tr>\n",
              "      <th>3</th>\n",
              "      <td>4</td>\n",
              "      <td>2023-01-02 00:07:00</td>\n",
              "      <td>2023-01-02 00:26:00</td>\n",
              "      <td>38.909701</td>\n",
              "      <td>-77.085646</td>\n",
              "      <td>38.935839</td>\n",
              "      <td>-77.106913</td>\n",
              "    </tr>\n",
              "    <tr>\n",
              "      <th>4</th>\n",
              "      <td>5</td>\n",
              "      <td>2023-01-02 00:10:00</td>\n",
              "      <td>2023-01-02 00:20:00</td>\n",
              "      <td>38.905509</td>\n",
              "      <td>-77.065246</td>\n",
              "      <td>38.898302</td>\n",
              "      <td>-77.046913</td>\n",
              "    </tr>\n",
              "  </tbody>\n",
              "</table>\n",
              "</div>\n",
              "      <button class=\"colab-df-convert\" onclick=\"convertToInteractive('df-ea2c5706-bfc2-4cf9-88e0-47b5e3abb508')\"\n",
              "              title=\"Convert this dataframe to an interactive table.\"\n",
              "              style=\"display:none;\">\n",
              "        \n",
              "  <svg xmlns=\"http://www.w3.org/2000/svg\" height=\"24px\"viewBox=\"0 0 24 24\"\n",
              "       width=\"24px\">\n",
              "    <path d=\"M0 0h24v24H0V0z\" fill=\"none\"/>\n",
              "    <path d=\"M18.56 5.44l.94 2.06.94-2.06 2.06-.94-2.06-.94-.94-2.06-.94 2.06-2.06.94zm-11 1L8.5 8.5l.94-2.06 2.06-.94-2.06-.94L8.5 2.5l-.94 2.06-2.06.94zm10 10l.94 2.06.94-2.06 2.06-.94-2.06-.94-.94-2.06-.94 2.06-2.06.94z\"/><path d=\"M17.41 7.96l-1.37-1.37c-.4-.4-.92-.59-1.43-.59-.52 0-1.04.2-1.43.59L10.3 9.45l-7.72 7.72c-.78.78-.78 2.05 0 2.83L4 21.41c.39.39.9.59 1.41.59.51 0 1.02-.2 1.41-.59l7.78-7.78 2.81-2.81c.8-.78.8-2.07 0-2.86zM5.41 20L4 18.59l7.72-7.72 1.47 1.35L5.41 20z\"/>\n",
              "  </svg>\n",
              "      </button>\n",
              "      \n",
              "  <style>\n",
              "    .colab-df-container {\n",
              "      display:flex;\n",
              "      flex-wrap:wrap;\n",
              "      gap: 12px;\n",
              "    }\n",
              "\n",
              "    .colab-df-convert {\n",
              "      background-color: #E8F0FE;\n",
              "      border: none;\n",
              "      border-radius: 50%;\n",
              "      cursor: pointer;\n",
              "      display: none;\n",
              "      fill: #1967D2;\n",
              "      height: 32px;\n",
              "      padding: 0 0 0 0;\n",
              "      width: 32px;\n",
              "    }\n",
              "\n",
              "    .colab-df-convert:hover {\n",
              "      background-color: #E2EBFA;\n",
              "      box-shadow: 0px 1px 2px rgba(60, 64, 67, 0.3), 0px 1px 3px 1px rgba(60, 64, 67, 0.15);\n",
              "      fill: #174EA6;\n",
              "    }\n",
              "\n",
              "    [theme=dark] .colab-df-convert {\n",
              "      background-color: #3B4455;\n",
              "      fill: #D2E3FC;\n",
              "    }\n",
              "\n",
              "    [theme=dark] .colab-df-convert:hover {\n",
              "      background-color: #434B5C;\n",
              "      box-shadow: 0px 1px 3px 1px rgba(0, 0, 0, 0.15);\n",
              "      filter: drop-shadow(0px 1px 2px rgba(0, 0, 0, 0.3));\n",
              "      fill: #FFFFFF;\n",
              "    }\n",
              "  </style>\n",
              "\n",
              "      <script>\n",
              "        const buttonEl =\n",
              "          document.querySelector('#df-ea2c5706-bfc2-4cf9-88e0-47b5e3abb508 button.colab-df-convert');\n",
              "        buttonEl.style.display =\n",
              "          google.colab.kernel.accessAllowed ? 'block' : 'none';\n",
              "\n",
              "        async function convertToInteractive(key) {\n",
              "          const element = document.querySelector('#df-ea2c5706-bfc2-4cf9-88e0-47b5e3abb508');\n",
              "          const dataTable =\n",
              "            await google.colab.kernel.invokeFunction('convertToInteractive',\n",
              "                                                     [key], {});\n",
              "          if (!dataTable) return;\n",
              "\n",
              "          const docLinkHtml = 'Like what you see? Visit the ' +\n",
              "            '<a target=\"_blank\" href=https://colab.research.google.com/notebooks/data_table.ipynb>data table notebook</a>'\n",
              "            + ' to learn more about interactive tables.';\n",
              "          element.innerHTML = '';\n",
              "          dataTable['output_type'] = 'display_data';\n",
              "          await google.colab.output.renderOutput(dataTable, element);\n",
              "          const docLink = document.createElement('div');\n",
              "          docLink.innerHTML = docLinkHtml;\n",
              "          element.appendChild(docLink);\n",
              "        }\n",
              "      </script>\n",
              "    </div>\n",
              "  </div>\n",
              "  "
            ]
          },
          "metadata": {},
          "execution_count": 16
        }
      ],
      "source": [
        "df.head()"
      ]
    },
    {
      "cell_type": "code",
      "execution_count": null,
      "id": "37c8bbd0",
      "metadata": {
        "id": "37c8bbd0"
      },
      "outputs": [],
      "source": [
        "start_time = pd.to_datetime('06:00:00').time()\n",
        "end_time = pd.to_datetime('18:00:00').time()\n"
      ]
    },
    {
      "cell_type": "code",
      "execution_count": null,
      "id": "2d5d4592",
      "metadata": {
        "id": "2d5d4592"
      },
      "outputs": [],
      "source": [
        "filtered_df = df[(df['started_at'].dt.time >= start_time) & (df['started_at'].dt.time <= end_time)]"
      ]
    },
    {
      "cell_type": "code",
      "execution_count": null,
      "id": "ad91451a",
      "metadata": {
        "id": "ad91451a"
      },
      "outputs": [],
      "source": [
        "fil_df = filtered_df[(filtered_df['ended_at'].dt.time >= start_time) & (filtered_df['ended_at'].dt.time <= end_time)]"
      ]
    },
    {
      "cell_type": "code",
      "execution_count": null,
      "id": "34c0caf0",
      "metadata": {
        "colab": {
          "base_uri": "https://localhost:8080/"
        },
        "id": "34c0caf0",
        "outputId": "0631460a-0f7e-46aa-e72b-63e8439a7e8e"
      },
      "outputs": [
        {
          "output_type": "execute_result",
          "data": {
            "text/plain": [
              "4692"
            ]
          },
          "metadata": {},
          "execution_count": 20
        }
      ],
      "source": [
        "len(fil_df)"
      ]
    },
    {
      "cell_type": "code",
      "execution_count": null,
      "id": "d300e0ae",
      "metadata": {
        "colab": {
          "base_uri": "https://localhost:8080/"
        },
        "id": "d300e0ae",
        "outputId": "74fe8744-ffe7-49c8-cfaf-54ec3e06004b"
      },
      "outputs": [
        {
          "output_type": "stream",
          "name": "stdout",
          "text": [
            "<class 'pandas.core.frame.DataFrame'>\n",
            "Int64Index: 4692 entries, 122 to 4964\n",
            "Data columns (total 7 columns):\n",
            " #   Column      Non-Null Count  Dtype         \n",
            "---  ------      --------------  -----         \n",
            " 0   trip_id     4692 non-null   int64         \n",
            " 1   started_at  4692 non-null   datetime64[ns]\n",
            " 2   ended_at    4692 non-null   datetime64[ns]\n",
            " 3   start_lat   4692 non-null   float64       \n",
            " 4   start_lng   4692 non-null   float64       \n",
            " 5   end_lat     4692 non-null   float64       \n",
            " 6   end_lng     4692 non-null   float64       \n",
            "dtypes: datetime64[ns](2), float64(4), int64(1)\n",
            "memory usage: 293.2 KB\n"
          ]
        }
      ],
      "source": [
        "fil_df.info()"
      ]
    },
    {
      "cell_type": "code",
      "execution_count": null,
      "id": "b959002b",
      "metadata": {
        "id": "b959002b"
      },
      "outputs": [],
      "source": [
        "fil_df = fil_df.sort_values(by='started_at')"
      ]
    },
    {
      "cell_type": "code",
      "source": [
        "\n",
        "# create a hash table to store the end locations of each trip\n",
        "end_locs = {}\n",
        "\n",
        "# initialize a counter for the number of feasible pairs\n",
        "num_feasible_pairs = 0\n",
        "\n",
        "\n",
        "for i in range(len(fil_df)):\n",
        "    # get the end location of the current trip\n",
        "    end_loc = (fil_df.iloc[i]['end_lat'], fil_df.iloc[i]['end_lng'])\n",
        "    # check if the end location is in the hash table\n",
        "    if end_loc in end_locs:\n",
        "        prev_trips = end_locs[end_loc]\n",
        "        # loop through the previous trips and check if they can be served in succession with the current trip\n",
        "        for prev_trip in prev_trips:\n",
        "            if prev_trip['end_time'] <= fil_df.iloc[i]['started_at']:\n",
        "                # increment the counter for the number of feasible pairs\n",
        "                num_feasible_pairs += 1\n",
        "    if end_loc not in end_locs:\n",
        "        end_locs[end_loc] = []\n",
        "    end_locs[end_loc].append({'end_time': fil_df.iloc[i]['ended_at']})\n",
        "\n",
        "# display the total number of feasible pairs\n",
        "print(\"Total number of feasible pairs of trips:\", num_feasible_pairs)\n"
      ],
      "metadata": {
        "colab": {
          "base_uri": "https://localhost:8080/"
        },
        "id": "icjNg9x1adSR",
        "outputId": "fa87579e-124c-491e-8ead-6894f155f394"
      },
      "id": "icjNg9x1adSR",
      "execution_count": null,
      "outputs": [
        {
          "output_type": "stream",
          "name": "stdout",
          "text": [
            "Total number of feasible pairs of trips: 49447\n"
          ]
        }
      ]
    },
    {
      "cell_type": "code",
      "execution_count": null,
      "id": "8f454540",
      "metadata": {
        "id": "8f454540"
      },
      "outputs": [],
      "source": []
    }
  ],
  "metadata": {
    "kernelspec": {
      "display_name": "Python 3 (ipykernel)",
      "language": "python",
      "name": "python3"
    },
    "language_info": {
      "codemirror_mode": {
        "name": "ipython",
        "version": 3
      },
      "file_extension": ".py",
      "mimetype": "text/x-python",
      "name": "python",
      "nbconvert_exporter": "python",
      "pygments_lexer": "ipython3",
      "version": "3.10.2"
    },
    "colab": {
      "provenance": []
    }
  },
  "nbformat": 4,
  "nbformat_minor": 5
}